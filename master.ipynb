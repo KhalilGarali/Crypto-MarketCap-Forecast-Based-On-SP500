{
 "cells": [
  {
   "cell_type": "markdown",
   "metadata": {},
   "source": [
    "# **Crypto market capitalization forecast based on S&P 500.**"
   ]
  },
  {
   "cell_type": "markdown",
   "metadata": {},
   "source": [
    "## **Abstract**\n",
    "   Abstract here. Give an executive summary of your project: goal, methods, results, conclusions. Usually no more than 200 words.\n"
   ]
  },
  {
   "cell_type": "markdown",
   "metadata": {},
   "source": [
    "## **Introduction**\n",
    "\n",
    "Here you have to explain the problem that you are solving. Explain why it is important, and what are the main challenges. Mention previous attempts (add papers as references) to solve it. Mainly focus on the techniques closely related to our approach. Briefly describe your approach and explain why it is promising for solving the addressed problem. Mention the dataset and the main results achieved.\n",
    "\n",
    "In this section, you can add **text** and **figures**."
   ]
  },
  {
   "cell_type": "markdown",
   "metadata": {},
   "source": [
    "## **Methodology**\n",
    "Describe the important steps you took to achieve your goal. Focus more on the most important steps (preprocessing, extra features, model aspects) that turned out to be important. Mention the original aspects of the project and state how they relate to existing work.\n",
    "\n",
    "In this section, you can add **text** and **figures**. For instance, it is strongly suggested to add a picture of the best machine learning model that you implemented to solve your problem (and describe it).\n"
   ]
  },
  {
   "cell_type": "markdown",
   "metadata": {},
   "source": [
    "### **Preprocessing**"
   ]
  },
  {
   "cell_type": "markdown",
   "metadata": {},
   "source": [
    "The first step in our methodology involved preprocessing the raw data from 2 sources: Kaggle and CoinCodex. We will be using the Kaggle data for everything that is related to the S&P500, and CoinCodex for everything related crypto. For the cryptocurrency data, we focused on key features such as Date, Volume, and Marketcap. Similarly, for the S&P500 data, we retained relevant columns like Date, Open, High, Low, Close, Volume, and additional info regarding the fear index (VIX). The datasets were cleaned to handle missing values, if any, unwanted data and the Date columns were standardized to ensure compatibility for merging."
   ]
  },
  {
   "cell_type": "markdown",
   "metadata": {},
   "source": [
    "First Let's import the necessary libraries that we need for the project and define some constants!\n",
    "Run the code below...\n"
   ]
  },
  {
   "cell_type": "code",
   "execution_count": 51,
   "metadata": {},
   "outputs": [],
   "source": [
    "import os\n",
    "import pandas as pd\n",
    "pd.options.mode.chained_assignment = None\n",
    "import numpy as np\n",
    "import matplotlib.pyplot as plt\n",
    "import seaborn as sns\n",
    "from sklearn.preprocessing import StandardScaler\n",
    "from sklearn.linear_model import LinearRegression\n",
    "from sklearn.metrics import mean_squared_error, r2_score\n",
    "import torch\n",
    "import torch.nn as nn\n",
    "import torch.nn.functional as F\n",
    "import torch.optim as optim"
   ]
  },
  {
   "cell_type": "code",
   "execution_count": 61,
   "metadata": {},
   "outputs": [],
   "source": [
    "STOCK_DATA_PATH = 'Data/StockData/'\n",
    "CRYPTO_DATA_PATH_RAW = 'Data/CryptoData/RawData/'\n",
    "CRYPTO_DATA_PATH_PROCESSED = 'Data/CryptoData/PreProcessedData/'\n",
    "KAGGLE_DATA_PATH = 'Data/KaggleData/'"
   ]
  },
  {
   "cell_type": "markdown",
   "metadata": {},
   "source": [
    "Once the libraries imported, we can now load the S&P500 data and take a look at the first few rows along with some additional info by running the code below."
   ]
  },
  {
   "cell_type": "code",
   "execution_count": 62,
   "metadata": {},
   "outputs": [
    {
     "name": "stdout",
     "output_type": "stream",
     "text": [
      "\n",
      "Stock Dataset ==> Min Date: 2017-01-03 00:00:00 / Max Date: 2025-04-04 00:00:00\n",
      "\n",
      "VIX Dataset ==> Min Date: 1990-01-02 00:00:00 / Max Date: 2025-04-04 00:00:00\n"
     ]
    }
   ],
   "source": [
    "def load_data(filename: str, date_col: str, date_format: str) -> pd.DataFrame:\n",
    "    \"\"\"\n",
    "    Loads a CSV file into a pandas DataFrame and parses the date column.\n",
    "\n",
    "    Args:\n",
    "        filename (str): Name of the CSV file.\n",
    "        date_col (str): Name of the date column.\n",
    "        date_format (str): Format of the date in the CSV.\n",
    "\n",
    "    Returns:\n",
    "        pd.DataFrame: Processed DataFrame with parsed dates.\n",
    "    \"\"\"\n",
    "    filepath = os.path.join(STOCK_DATA_PATH, filename)\n",
    "    df = pd.read_csv(filepath)\n",
    "    df[date_col] = pd.to_datetime(df[date_col], format=date_format)\n",
    "    return df\n",
    "\n",
    "stock_df = load_data('S&P500_Historical_Data.csv', 'Date', '%Y-%m-%d')\n",
    "vix_df = load_data('VIX_Historical_Data.csv', 'Date', '%m/%d/%Y')\n",
    "\n",
    "for name, df in zip([\"Stock\", \"VIX\"], [stock_df, vix_df]):\n",
    "    print(f\"\\n{name} Dataset ==> Min Date: {df['Date'].min()} / Max Date: {df['Date'].max()}\")\n"
   ]
  },
  {
   "cell_type": "code",
   "execution_count": 63,
   "metadata": {},
   "outputs": [
    {
     "data": {
      "text/html": [
       "<div>\n",
       "<style scoped>\n",
       "    .dataframe tbody tr th:only-of-type {\n",
       "        vertical-align: middle;\n",
       "    }\n",
       "\n",
       "    .dataframe tbody tr th {\n",
       "        vertical-align: top;\n",
       "    }\n",
       "\n",
       "    .dataframe thead th {\n",
       "        text-align: right;\n",
       "    }\n",
       "</style>\n",
       "<table border=\"1\" class=\"dataframe\">\n",
       "  <thead>\n",
       "    <tr style=\"text-align: right;\">\n",
       "      <th></th>\n",
       "      <th>Date</th>\n",
       "      <th>Price</th>\n",
       "      <th>Open</th>\n",
       "      <th>High</th>\n",
       "      <th>Low</th>\n",
       "      <th>Vol.</th>\n",
       "      <th>Change %</th>\n",
       "    </tr>\n",
       "  </thead>\n",
       "  <tbody>\n",
       "    <tr>\n",
       "      <th>0</th>\n",
       "      <td>2025-04-04</td>\n",
       "      <td>5,074.08</td>\n",
       "      <td>5,292.14</td>\n",
       "      <td>5,292.14</td>\n",
       "      <td>5,069.90</td>\n",
       "      <td>NaN</td>\n",
       "      <td>-5.97%</td>\n",
       "    </tr>\n",
       "    <tr>\n",
       "      <th>1</th>\n",
       "      <td>2025-04-03</td>\n",
       "      <td>5,396.52</td>\n",
       "      <td>5,492.74</td>\n",
       "      <td>5,499.53</td>\n",
       "      <td>5,390.83</td>\n",
       "      <td>NaN</td>\n",
       "      <td>-4.84%</td>\n",
       "    </tr>\n",
       "    <tr>\n",
       "      <th>2</th>\n",
       "      <td>2025-04-02</td>\n",
       "      <td>5,670.97</td>\n",
       "      <td>5,580.76</td>\n",
       "      <td>5,695.31</td>\n",
       "      <td>5,571.48</td>\n",
       "      <td>NaN</td>\n",
       "      <td>0.67%</td>\n",
       "    </tr>\n",
       "    <tr>\n",
       "      <th>3</th>\n",
       "      <td>2025-04-01</td>\n",
       "      <td>5,633.07</td>\n",
       "      <td>5,597.53</td>\n",
       "      <td>5,650.57</td>\n",
       "      <td>5,558.52</td>\n",
       "      <td>NaN</td>\n",
       "      <td>0.38%</td>\n",
       "    </tr>\n",
       "    <tr>\n",
       "      <th>4</th>\n",
       "      <td>2025-03-31</td>\n",
       "      <td>5,611.85</td>\n",
       "      <td>5,527.91</td>\n",
       "      <td>5,627.56</td>\n",
       "      <td>5,488.73</td>\n",
       "      <td>NaN</td>\n",
       "      <td>0.55%</td>\n",
       "    </tr>\n",
       "  </tbody>\n",
       "</table>\n",
       "</div>"
      ],
      "text/plain": [
       "        Date     Price      Open      High       Low  Vol. Change %\n",
       "0 2025-04-04  5,074.08  5,292.14  5,292.14  5,069.90   NaN   -5.97%\n",
       "1 2025-04-03  5,396.52  5,492.74  5,499.53  5,390.83   NaN   -4.84%\n",
       "2 2025-04-02  5,670.97  5,580.76  5,695.31  5,571.48   NaN    0.67%\n",
       "3 2025-04-01  5,633.07  5,597.53  5,650.57  5,558.52   NaN    0.38%\n",
       "4 2025-03-31  5,611.85  5,527.91  5,627.56  5,488.73   NaN    0.55%"
      ]
     },
     "execution_count": 63,
     "metadata": {},
     "output_type": "execute_result"
    }
   ],
   "source": [
    "stock_df.head()"
   ]
  },
  {
   "cell_type": "code",
   "execution_count": 64,
   "metadata": {},
   "outputs": [
    {
     "data": {
      "text/html": [
       "<div>\n",
       "<style scoped>\n",
       "    .dataframe tbody tr th:only-of-type {\n",
       "        vertical-align: middle;\n",
       "    }\n",
       "\n",
       "    .dataframe tbody tr th {\n",
       "        vertical-align: top;\n",
       "    }\n",
       "\n",
       "    .dataframe thead th {\n",
       "        text-align: right;\n",
       "    }\n",
       "</style>\n",
       "<table border=\"1\" class=\"dataframe\">\n",
       "  <thead>\n",
       "    <tr style=\"text-align: right;\">\n",
       "      <th></th>\n",
       "      <th>Date</th>\n",
       "      <th>Open</th>\n",
       "      <th>High</th>\n",
       "      <th>Low</th>\n",
       "      <th>Close</th>\n",
       "    </tr>\n",
       "  </thead>\n",
       "  <tbody>\n",
       "    <tr>\n",
       "      <th>0</th>\n",
       "      <td>1990-01-02</td>\n",
       "      <td>17.24</td>\n",
       "      <td>17.24</td>\n",
       "      <td>17.24</td>\n",
       "      <td>17.24</td>\n",
       "    </tr>\n",
       "    <tr>\n",
       "      <th>1</th>\n",
       "      <td>1990-01-03</td>\n",
       "      <td>18.19</td>\n",
       "      <td>18.19</td>\n",
       "      <td>18.19</td>\n",
       "      <td>18.19</td>\n",
       "    </tr>\n",
       "    <tr>\n",
       "      <th>2</th>\n",
       "      <td>1990-01-04</td>\n",
       "      <td>19.22</td>\n",
       "      <td>19.22</td>\n",
       "      <td>19.22</td>\n",
       "      <td>19.22</td>\n",
       "    </tr>\n",
       "    <tr>\n",
       "      <th>3</th>\n",
       "      <td>1990-01-05</td>\n",
       "      <td>20.11</td>\n",
       "      <td>20.11</td>\n",
       "      <td>20.11</td>\n",
       "      <td>20.11</td>\n",
       "    </tr>\n",
       "    <tr>\n",
       "      <th>4</th>\n",
       "      <td>1990-01-08</td>\n",
       "      <td>20.26</td>\n",
       "      <td>20.26</td>\n",
       "      <td>20.26</td>\n",
       "      <td>20.26</td>\n",
       "    </tr>\n",
       "  </tbody>\n",
       "</table>\n",
       "</div>"
      ],
      "text/plain": [
       "        Date   Open   High    Low  Close\n",
       "0 1990-01-02  17.24  17.24  17.24  17.24\n",
       "1 1990-01-03  18.19  18.19  18.19  18.19\n",
       "2 1990-01-04  19.22  19.22  19.22  19.22\n",
       "3 1990-01-05  20.11  20.11  20.11  20.11\n",
       "4 1990-01-08  20.26  20.26  20.26  20.26"
      ]
     },
     "execution_count": 64,
     "metadata": {},
     "output_type": "execute_result"
    }
   ],
   "source": [
    "vix_df.head()"
   ]
  },
  {
   "cell_type": "markdown",
   "metadata": {},
   "source": [
    "Great, let's now tackle our raw crypto data.  \n",
    "After some research and many hours of trying to find the best balance between variety of cryptos and the amount of data that can be used, I have decided to include 14 cryptos from the top 100 where the data stretches from 2017 to 2025.  \n",
    "\n",
    "Let us take a look at an example of crypto data that we have:\n",
    "\n",
    "**Note**: We have a CSV for every crypto. (14 CSVs total)"
   ]
  },
  {
   "cell_type": "code",
   "execution_count": 65,
   "metadata": {},
   "outputs": [
    {
     "data": {
      "text/html": [
       "<div>\n",
       "<style scoped>\n",
       "    .dataframe tbody tr th:only-of-type {\n",
       "        vertical-align: middle;\n",
       "    }\n",
       "\n",
       "    .dataframe tbody tr th {\n",
       "        vertical-align: top;\n",
       "    }\n",
       "\n",
       "    .dataframe thead th {\n",
       "        text-align: right;\n",
       "    }\n",
       "</style>\n",
       "<table border=\"1\" class=\"dataframe\">\n",
       "  <thead>\n",
       "    <tr style=\"text-align: right;\">\n",
       "      <th></th>\n",
       "      <th>Start</th>\n",
       "      <th>End</th>\n",
       "      <th>Open</th>\n",
       "      <th>High</th>\n",
       "      <th>Low</th>\n",
       "      <th>Close</th>\n",
       "      <th>Volume</th>\n",
       "      <th>Market Cap</th>\n",
       "    </tr>\n",
       "  </thead>\n",
       "  <tbody>\n",
       "    <tr>\n",
       "      <th>0</th>\n",
       "      <td>2025-04-06</td>\n",
       "      <td>2025-04-07</td>\n",
       "      <td>83533.45</td>\n",
       "      <td>83704.76</td>\n",
       "      <td>77296.39</td>\n",
       "      <td>78310.34</td>\n",
       "      <td>2.974769e+10</td>\n",
       "      <td>1.626852e+12</td>\n",
       "    </tr>\n",
       "    <tr>\n",
       "      <th>1</th>\n",
       "      <td>2025-04-05</td>\n",
       "      <td>2025-04-06</td>\n",
       "      <td>83769.12</td>\n",
       "      <td>84219.70</td>\n",
       "      <td>82384.97</td>\n",
       "      <td>83582.03</td>\n",
       "      <td>5.424886e+10</td>\n",
       "      <td>1.654110e+12</td>\n",
       "    </tr>\n",
       "    <tr>\n",
       "      <th>2</th>\n",
       "      <td>2025-04-04</td>\n",
       "      <td>2025-04-05</td>\n",
       "      <td>83259.08</td>\n",
       "      <td>84676.27</td>\n",
       "      <td>81767.53</td>\n",
       "      <td>83879.86</td>\n",
       "      <td>6.263226e+10</td>\n",
       "      <td>1.654911e+12</td>\n",
       "    </tr>\n",
       "    <tr>\n",
       "      <th>3</th>\n",
       "      <td>2025-04-03</td>\n",
       "      <td>2025-04-04</td>\n",
       "      <td>82259.03</td>\n",
       "      <td>83781.70</td>\n",
       "      <td>81307.75</td>\n",
       "      <td>83199.95</td>\n",
       "      <td>7.766843e+10</td>\n",
       "      <td>1.643472e+12</td>\n",
       "    </tr>\n",
       "    <tr>\n",
       "      <th>4</th>\n",
       "      <td>2025-04-02</td>\n",
       "      <td>2025-04-03</td>\n",
       "      <td>85170.68</td>\n",
       "      <td>87898.01</td>\n",
       "      <td>82487.40</td>\n",
       "      <td>82548.31</td>\n",
       "      <td>5.237611e+10</td>\n",
       "      <td>1.688190e+12</td>\n",
       "    </tr>\n",
       "  </tbody>\n",
       "</table>\n",
       "</div>"
      ],
      "text/plain": [
       "        Start         End      Open      High       Low     Close  \\\n",
       "0  2025-04-06  2025-04-07  83533.45  83704.76  77296.39  78310.34   \n",
       "1  2025-04-05  2025-04-06  83769.12  84219.70  82384.97  83582.03   \n",
       "2  2025-04-04  2025-04-05  83259.08  84676.27  81767.53  83879.86   \n",
       "3  2025-04-03  2025-04-04  82259.03  83781.70  81307.75  83199.95   \n",
       "4  2025-04-02  2025-04-03  85170.68  87898.01  82487.40  82548.31   \n",
       "\n",
       "         Volume    Market Cap  \n",
       "0  2.974769e+10  1.626852e+12  \n",
       "1  5.424886e+10  1.654110e+12  \n",
       "2  6.263226e+10  1.654911e+12  \n",
       "3  7.766843e+10  1.643472e+12  \n",
       "4  5.237611e+10  1.688190e+12  "
      ]
     },
     "execution_count": 65,
     "metadata": {},
     "output_type": "execute_result"
    }
   ],
   "source": [
    "btc_df = pd.read_csv(os.path.join(CRYPTO_DATA_PATH_RAW, 'BTC.csv'))\n",
    "btc_df.head()"
   ]
  },
  {
   "cell_type": "markdown",
   "metadata": {},
   "source": [
    "Let us standardize our timeframe now. From all the CSVs we have, we can see that our range should be from 2018-1-18 to 2025-04-04 to match the maximum date of the stock market data."
   ]
  },
  {
   "cell_type": "code",
   "execution_count": 68,
   "metadata": {},
   "outputs": [
    {
     "name": "stdout",
     "output_type": "stream",
     "text": [
      "All files processed!\n"
     ]
    }
   ],
   "source": [
    "date_range = pd.date_range(start='2018-1-18', end='2025-04-04', freq='D')\n",
    "\n",
    "for filename in os.listdir(CRYPTO_DATA_PATH_RAW):\n",
    "        try:\n",
    "            raw_path = os.path.join(CRYPTO_DATA_PATH_RAW, filename)\n",
    "            df = pd.read_csv(raw_path)\n",
    "            df['Start'] = pd.to_datetime(df['Start'])\n",
    "            df = df[df['Start'].isin(date_range)]\n",
    "            df = df.sort_values('Start')\n",
    "            \n",
    "            processed_path = os.path.join(CRYPTO_DATA_PATH_PROCESSED, filename)\n",
    "            df.to_csv(processed_path, index=False)\n",
    "                        \n",
    "        except Exception as e:\n",
    "            print(f\"Error processing {filename}: {str(e)}\")\n",
    "\n",
    "print(\"All files processed!\")"
   ]
  },
  {
   "cell_type": "markdown",
   "metadata": {},
   "source": [
    "After inspecting these new CSVs, we can see that there are around 100 data points of market cap data missing in BNB and EOS.  \n",
    "We will use data from kaggle to fill that in.  "
   ]
  },
  {
   "cell_type": "code",
   "execution_count": 69,
   "metadata": {},
   "outputs": [
    {
     "name": "stdout",
     "output_type": "stream",
     "text": [
      "BNB: Updated 133 market cap values\n",
      "EOS: Updated 133 market cap values\n",
      "\n",
      "All files processed and overwritten!\n"
     ]
    }
   ],
   "source": [
    "def update_market_caps(processed_path, all_crypto_file):\n",
    "    all_crypto_df = pd.read_csv(all_crypto_file)\n",
    "    \n",
    "    crypto_files = [f for f in os.listdir(processed_path) if f.endswith('.csv') and f != 'All_Crypto.csv']\n",
    "    \n",
    "    for filename in crypto_files:\n",
    "        try:\n",
    "            symbol = filename.replace('.csv', '')\n",
    "            \n",
    "            filepath = os.path.join(processed_path, filename)\n",
    "            crypto_df = pd.read_csv(filepath)\n",
    "            crypto_df['Start'] = pd.to_datetime(crypto_df['Start'])\n",
    "            \n",
    "            symbol_data = all_crypto_df[all_crypto_df['Symbol'] == symbol].copy()\n",
    "            symbol_data['Date'] = pd.to_datetime(symbol_data['Date'], format='%d-%m-%Y %H:%M')\n",
    "            \n",
    "            crypto_df['Start_date'] = crypto_df['Start'].dt.normalize()\n",
    "            symbol_data['Date_date'] = symbol_data['Date'].dt.normalize()\n",
    "            \n",
    "            market_cap_dict = dict(zip(symbol_data['Date_date'], symbol_data['Marketcap']))\n",
    "            \n",
    "            updated_count = 0\n",
    "            for index, row in crypto_df.iterrows():\n",
    "                if row['Market Cap'] == 0.0 or row['Market Cap'] == -1.0:\n",
    "                    start_date = row['Start_date']\n",
    "                    if start_date in market_cap_dict:\n",
    "                        crypto_df.at[index, 'Market Cap'] = market_cap_dict[start_date]\n",
    "                        updated_count += 1\n",
    "            \n",
    "            crypto_df.drop(columns=['Start_date'], inplace=True)\n",
    "            crypto_df.to_csv(filepath, index=False)\n",
    "            \n",
    "            if updated_count > 0:\n",
    "                print(f\"{symbol}: Updated {updated_count} market cap values\")\n",
    "            \n",
    "        except Exception as e:\n",
    "            print(f\"Error processing {filename}: {str(e)}\")\n",
    "\n",
    "update_market_caps(CRYPTO_DATA_PATH_PROCESSED, KAGGLE_DATA_PATH + 'All_Crypto.csv')\n",
    "print(\"\\nAll files processed and overwritten!\")"
   ]
  },
  {
   "cell_type": "markdown",
   "metadata": {},
   "source": [
    "Nice, now our crypto data is complete within the time range of 2018 to 2025.  \n",
    "Let us now work on dropping the unwated features and making the merged crypto dataset."
   ]
  }
 ],
 "metadata": {
  "kernelspec": {
   "display_name": "venv",
   "language": "python",
   "name": "python3"
  },
  "language_info": {
   "codemirror_mode": {
    "name": "ipython",
    "version": 3
   },
   "file_extension": ".py",
   "mimetype": "text/x-python",
   "name": "python",
   "nbconvert_exporter": "python",
   "pygments_lexer": "ipython3",
   "version": "3.9.13"
  }
 },
 "nbformat": 4,
 "nbformat_minor": 2
}
